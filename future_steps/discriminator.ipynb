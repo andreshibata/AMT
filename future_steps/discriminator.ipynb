{
 "cells": [
  {
   "cell_type": "code",
   "execution_count": 2,
   "metadata": {},
   "outputs": [
    {
     "name": "stdout",
     "output_type": "stream",
     "text": [
      "Found 7944 images belonging to 2 classes.\n",
      "Found 1986 images belonging to 2 classes.\n",
      "Epoch 1/5\n",
      "248/248 [==============================] - 96s 385ms/step - loss: 0.1252 - accuracy: 0.9675 - val_loss: 2.3758e-04 - val_accuracy: 1.0000\n",
      "Epoch 2/5\n",
      "248/248 [==============================] - 94s 379ms/step - loss: 0.0117 - accuracy: 0.9980 - val_loss: 0.0482 - val_accuracy: 0.9909\n",
      "Epoch 3/5\n",
      "248/248 [==============================] - ETA: 0s - loss: 0.0086 - accuracy: 0.9985"
     ]
    }
   ],
   "source": [
    "import tensorflow as tf\n",
    "from tensorflow.keras.preprocessing.image import ImageDataGenerator\n",
    "from tensorflow.keras.models import Sequential\n",
    "from tensorflow.keras.layers import Conv2D, MaxPooling2D\n",
    "from tensorflow.keras.layers import Activation, Dropout, Flatten, Dense\n",
    "\n",
    "# Preprocess the Data\n",
    "batch_size = 32\n",
    "img_height = 308  # Adjust as per your image dimensions\n",
    "img_width = 775   # Adjust as per your image dimensions\n",
    "\n",
    "# Initialize the training and validation data generators\n",
    "train_datagen = ImageDataGenerator(rescale=1./255, validation_split=0.2)  # Normalize and split data\n",
    "\n",
    "train_generator = train_datagen.flow_from_directory(\n",
    "    directory='dataset',  # Replace with the path to your dataset\n",
    "    target_size=(img_height, img_width),\n",
    "    batch_size=batch_size,\n",
    "    class_mode='binary',\n",
    "    subset='training')\n",
    "\n",
    "validation_generator = train_datagen.flow_from_directory(\n",
    "    directory='dataset',  # Replace with the path to your dataset\n",
    "    target_size=(img_height, img_width),\n",
    "    batch_size=batch_size,\n",
    "    class_mode='binary',\n",
    "    subset='validation')\n",
    "\n",
    "# Define the CNN model\n",
    "model = Sequential()\n",
    "model.add(Conv2D(32, (3, 3), input_shape=(img_width, img_height, 3)))\n",
    "model.add(Activation('relu'))\n",
    "model.add(MaxPooling2D(pool_size=(2, 2)))\n",
    "\n",
    "model.add(Conv2D(32, (3, 3)))\n",
    "model.add(Activation('relu'))\n",
    "model.add(MaxPooling2D(pool_size=(2, 2)))\n",
    "\n",
    "model.add(Conv2D(64, (3, 3)))\n",
    "model.add(Activation('relu'))\n",
    "model.add(MaxPooling2D(pool_size=(2, 2)))\n",
    "\n",
    "model.add(Flatten())\n",
    "model.add(Dense(64))\n",
    "model.add(Activation('relu'))\n",
    "model.add(Dropout(0.5))\n",
    "model.add(Dense(1))\n",
    "model.add(Activation('sigmoid'))\n",
    "\n",
    "# Compile the model\n",
    "model.compile(loss='binary_crossentropy',\n",
    "              optimizer='rmsprop',\n",
    "              metrics=['accuracy'])\n",
    "\n",
    "# Train the model\n",
    "model.fit(\n",
    "    train_generator,\n",
    "    steps_per_epoch=train_generator.samples // batch_size,\n",
    "    epochs=5,  # Adjust the number of epochs based on your requirement\n",
    "    validation_data=validation_generator,\n",
    "    validation_steps=validation_generator.samples // batch_size)\n",
    "\n",
    "# Save the trained model\n",
    "model.save('spectrogram_classifier.h5')\n"
   ]
  }
 ],
 "metadata": {
  "kernelspec": {
   "display_name": ".venv",
   "language": "python",
   "name": "python3"
  },
  "language_info": {
   "codemirror_mode": {
    "name": "ipython",
    "version": 3
   },
   "file_extension": ".py",
   "mimetype": "text/x-python",
   "name": "python",
   "nbconvert_exporter": "python",
   "pygments_lexer": "ipython3",
   "version": "3.11.5"
  }
 },
 "nbformat": 4,
 "nbformat_minor": 2
}
